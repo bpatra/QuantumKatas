{
 "cells": [
  {
   "cell_type": "markdown",
   "metadata": {},
   "source": [
    "# Superposition Kata\n",
    "\n",
    "**Superposition** quantum kata is a series of exercises designed\n",
    "to get you familiar with the concept of superposition and with programming in Q#.\n",
    "It covers the following topics:\n",
    "* basic single-qubit and multi-qubit gates,\n",
    "* superposition,\n",
    "* flow control and recursion in Q#.\n",
    "\n",
    "It is recommended to complete the [BasicGates kata](./../BasicGates/BasicGates.ipynb) before this one to get familiar with the basic gates used in quantum computing. The list of basic gates available in Q# can be found at [Microsoft.Quantum.Intrinsic](https://docs.microsoft.com/qsharp/api/qsharp/microsoft.quantum.intrinsic).\n",
    "\n",
    "Each task is wrapped in one operation preceded by the description of the task.\n",
    "Your goal is to fill in the blank (marked with `// ...` comments)\n",
    "with some Q# code that solves the task. To verify your answer, run the cell using Ctrl/⌘+Enter.\n",
    "\n",
    "The tasks are given in approximate order of increasing difficulty; harder ones are marked with asterisks."
   ]
  },
  {
   "cell_type": "markdown",
   "metadata": {},
   "source": [
    "To begin, first prepare this notebook for execution (if you skip this step, you'll get \"Syntax does not match any known patterns\" error when you try to execute Q# code in the next cells):"
   ]
  },
  {
   "cell_type": "code",
   "execution_count": 1,
   "metadata": {},
   "outputs": [
    {
     "data": {
      "application/json": "{\"LastUpdated\":\"2020-04-11T17:51:22.790229+02:00\",\"IsCompleted\":true,\"Description\":\"Adding package Microsoft.Quantum.Katas::0.10.2002.2610\",\"Subtask\":\"done\"}",
      "text/plain": [
       "Adding package Microsoft.Quantum.Katas::0.10.2002.2610: done!"
      ]
     },
     "metadata": {},
     "output_type": "display_data"
    },
    {
     "data": {
      "application/json": "[\"Microsoft.Quantum.Standard::0.10.2002.2610\",\"Microsoft.Quantum.Katas::0.10.2002.2610\"]",
      "text/html": [
       "<ul><li>Microsoft.Quantum.Standard::0.10.2002.2610</li><li>Microsoft.Quantum.Katas::0.10.2002.2610</li></ul>"
      ],
      "text/plain": [
       "Microsoft.Quantum.Standard::0.10.2002.2610, Microsoft.Quantum.Katas::0.10.2002.2610"
      ]
     },
     "execution_count": 1,
     "metadata": {},
     "output_type": "execute_result"
    }
   ],
   "source": [
    "%package Microsoft.Quantum.Katas::0.11.2003.3107"
   ]
  },
  {
   "cell_type": "markdown",
   "metadata": {},
   "source": [
    "> The package versions in the output of the cell above should always match. If you are running the Notebooks locally and the versions do not match, please install the IQ# version that matches the version of the `Microsoft.Quantum.Katas` package.\n",
    "> <details>\n",
    "> <summary><u>How to install the right IQ# version</u></summary>\n",
    "> For example, if the version of `Microsoft.Quantum.Katas` package above is 0.1.2.3, the installation steps are as follows:\n",
    ">\n",
    "> 1. Stop the kernel.\n",
    "> 2. Uninstall the existing version of IQ#:\n",
    ">        dotnet tool uninstall microsoft.quantum.iqsharp -g\n",
    "> 3. Install the matching version:\n",
    ">        dotnet tool install microsoft.quantum.iqsharp -g --version 0.1.2.3\n",
    "> 4. Reinstall the kernel:\n",
    ">        dotnet iqsharp install\n",
    "> 5. Restart the Notebook.\n",
    "> </details>\n"
   ]
  },
  {
   "cell_type": "markdown",
   "metadata": {},
   "source": [
    "### <a name=\"plus-state\"></a> Task 1. Plus state.\n",
    "\n",
    "**Input:** A qubit in the $|0\\rangle$ state.\n",
    "\n",
    "**Goal:**  Change the state of the qubit to $|+\\rangle = \\frac{1}{\\sqrt{2}} \\big(|0\\rangle + |1\\rangle\\big)$."
   ]
  },
  {
   "cell_type": "code",
   "execution_count": 3,
   "metadata": {},
   "outputs": [
    {
     "name": "stdout",
     "output_type": "stream",
     "text": [
      "The desired state:\n",
      "# wave function for qubits with ids (least to most significant): 0\n",
      "∣0❭:\t 0.707107 +  0.000000 i\t == \t***********          [ 0.500000 ]     --- [  0.00000 rad ]\n",
      "∣1❭:\t 0.707107 +  0.000000 i\t == \t***********          [ 0.500000 ]     --- [  0.00000 rad ]\n",
      "The actual state:\n",
      "# wave function for qubits with ids (least to most significant): 0\n",
      "∣0❭:\t 0.707107 +  0.000000 i\t == \t***********          [ 0.500000 ]     --- [  0.00000 rad ]\n",
      "∣1❭:\t 0.707107 +  0.000000 i\t == \t***********          [ 0.500000 ]     --- [  0.00000 rad ]\n",
      "Test case passed\n"
     ]
    },
    {
     "data": {
      "application/json": "\"Success!\"",
      "text/plain": [
       "Success!"
      ]
     },
     "execution_count": 3,
     "metadata": {},
     "output_type": "execute_result"
    }
   ],
   "source": [
    "%kata T01_PlusState_Test \n",
    "\n",
    "operation PlusState (q : Qubit) : Unit {\n",
    "    H(q);\n",
    "}"
   ]
  },
  {
   "cell_type": "markdown",
   "metadata": {},
   "source": [
    "*Can't come up with a solution? See the explained solution in the [Superposition Workbook](./Workbook_Superposition.ipynb#plus-state).*"
   ]
  },
  {
   "cell_type": "markdown",
   "metadata": {},
   "source": [
    "### <a name=\"minus-state\"></a>  Task 2. Minus state.\n",
    "\n",
    "**Input**: A qubit in the $|0\\rangle$ state.\n",
    "\n",
    "**Goal**:  Change the state of the qubit to $|-\\rangle = \\frac{1}{\\sqrt{2}} \\big(|0\\rangle - |1\\rangle\\big)$."
   ]
  },
  {
   "cell_type": "code",
   "execution_count": 4,
   "metadata": {},
   "outputs": [
    {
     "name": "stdout",
     "output_type": "stream",
     "text": [
      "The desired state:\n",
      "# wave function for qubits with ids (least to most significant): 0\n",
      "∣0❭:\t 0.707107 +  0.000000 i\t == \t***********          [ 0.500000 ]     --- [  0.00000 rad ]\n",
      "∣1❭:\t-0.707107 +  0.000000 i\t == \t***********          [ 0.500000 ] ---     [  3.14159 rad ]\n",
      "The actual state:\n",
      "# wave function for qubits with ids (least to most significant): 0\n",
      "∣0❭:\t-0.707107 +  0.000000 i\t == \t***********          [ 0.500000 ] ---     [  3.14159 rad ]\n",
      "∣1❭:\t 0.707107 +  0.000000 i\t == \t***********          [ 0.500000 ]     --- [  0.00000 rad ]\n",
      "Test case passed\n"
     ]
    },
    {
     "data": {
      "application/json": "\"Success!\"",
      "text/plain": [
       "Success!"
      ]
     },
     "execution_count": 4,
     "metadata": {},
     "output_type": "execute_result"
    }
   ],
   "source": [
    "%kata T02_MinusState_Test \n",
    "\n",
    "operation MinusState (q : Qubit) : Unit {\n",
    "    H(q);\n",
    "    Z(q);\n",
    "}"
   ]
  },
  {
   "cell_type": "markdown",
   "metadata": {},
   "source": [
    "*Can't come up with a solution? See the explained solution in the [Superposition Workbook](./Workbook_Superposition.ipynb#minus-state).*"
   ]
  },
  {
   "cell_type": "markdown",
   "metadata": {},
   "source": [
    "### <a name=\"unequal-superposition\"></a>  Task 3*. Unequal superposition.\n",
    "\n",
    "**Inputs:**\n",
    "\n",
    "1. A qubit in the $|0\\rangle$ state.\n",
    "2. Angle $\\alpha$, in radians, represented as `Double`.\n",
    "\n",
    "**Goal** : Change the state of the qubit to $\\cos{α} |0\\rangle + \\sin{α} |1\\rangle$.\n",
    "\n",
    "<br/>\n",
    "<details>\n",
    "  <summary><b>Need a hint? Click here</b></summary>\n",
    "  Experiment with rotation gates from Microsoft.Quantum.Intrinsic namespace.\n",
    "  Note that all rotation operators rotate the state by <i>half</i> of its angle argument.\n",
    "</details>"
   ]
  },
  {
   "cell_type": "code",
   "execution_count": 5,
   "metadata": {},
   "outputs": [
    {
     "name": "stdout",
     "output_type": "stream",
     "text": [
      "The desired state for α = 0.5 π\n",
      "# wave function for qubits with ids (least to most significant): 0\n",
      "∣0❭:\t 0.000000 +  0.000000 i\t == \t                     [ 0.000000 ]                   \n",
      "∣1❭:\t 1.000000 +  0.000000 i\t == \t******************** [ 1.000000 ]     --- [  0.00000 rad ]\n",
      "The actual state:\n",
      "# wave function for qubits with ids (least to most significant): 0\n",
      "∣0❭:\t 0.000000 +  0.000000 i\t == \t*                    [ 0.000000 ]     --- [  0.00000 rad ]\n",
      "∣1❭:\t 1.000000 +  0.000000 i\t == \t******************** [ 1.000000 ]     --- [  0.00000 rad ]\n",
      "Test case passed\n",
      "The desired state for α = 0.25 π\n",
      "# wave function for qubits with ids (least to most significant): 0\n",
      "∣0❭:\t 0.707107 +  0.000000 i\t == \t***********          [ 0.500000 ]     --- [  0.00000 rad ]\n",
      "∣1❭:\t 0.707107 +  0.000000 i\t == \t***********          [ 0.500000 ]     --- [  0.00000 rad ]\n",
      "The actual state:\n",
      "# wave function for qubits with ids (least to most significant): 0\n",
      "∣0❭:\t 0.707107 +  0.000000 i\t == \t***********          [ 0.500000 ]     --- [  0.00000 rad ]\n",
      "∣1❭:\t 0.707107 +  0.000000 i\t == \t**********           [ 0.500000 ]     --- [  0.00000 rad ]\n",
      "Test case passed\n",
      "The desired state for α = 0.75 π\n",
      "# wave function for qubits with ids (least to most significant): 0\n",
      "∣0❭:\t 0.707107 +  0.000000 i\t == \t***********          [ 0.500000 ]     --- [  0.00000 rad ]\n",
      "∣1❭:\t-0.707107 +  0.000000 i\t == \t***********          [ 0.500000 ] ---     [  3.14159 rad ]\n",
      "The actual state:\n",
      "# wave function for qubits with ids (least to most significant): 0\n",
      "∣0❭:\t 0.707107 +  0.000000 i\t == \t**********           [ 0.500000 ]     --- [  0.00000 rad ]\n",
      "∣1❭:\t-0.707107 +  0.000000 i\t == \t***********          [ 0.500000 ] ---     [  3.14159 rad ]\n",
      "Test case passed\n",
      "Testing on hidden test cases...\n"
     ]
    },
    {
     "data": {
      "application/json": "\"Success!\"",
      "text/plain": [
       "Success!"
      ]
     },
     "execution_count": 5,
     "metadata": {},
     "output_type": "execute_result"
    }
   ],
   "source": [
    "%kata T03_UnequalSuperposition_Test \n",
    "\n",
    "operation UnequalSuperposition (q : Qubit, alpha : Double) : Unit {\n",
    "    Ry(2.0*alpha, q);\n",
    "}"
   ]
  },
  {
   "cell_type": "markdown",
   "metadata": {},
   "source": [
    "*Can't come up with a solution? See the explained solution in the [Superposition Workbook](./Workbook_Superposition.ipynb#unequal-superposition).*"
   ]
  },
  {
   "cell_type": "markdown",
   "metadata": {},
   "source": [
    "### <a name=\"superposition-of-all-basis-vectors-on-two-qubits\"></a>Task 4. Superposition of all basis vectors on two qubits.\n",
    "\n",
    "**Input:** Two qubits in the $|00\\rangle$ state (stored in an array of length 2).\n",
    "\n",
    "**Goal:**  Change the state of the qubits to $|+\\rangle \\otimes |+\\rangle = \\frac{1}{2} \\big(|00\\rangle + |01\\rangle + |10\\rangle + |11\\rangle\\big)$."
   ]
  },
  {
   "cell_type": "code",
   "execution_count": 6,
   "metadata": {},
   "outputs": [
    {
     "name": "stdout",
     "output_type": "stream",
     "text": [
      "The desired state:\n",
      "# wave function for qubits with ids (least to most significant): 0;1\n",
      "∣0❭:\t 0.500000 +  0.000000 i\t == \t******               [ 0.250000 ]     --- [  0.00000 rad ]\n",
      "∣1❭:\t 0.500000 +  0.000000 i\t == \t******               [ 0.250000 ]     --- [  0.00000 rad ]\n",
      "∣2❭:\t 0.500000 +  0.000000 i\t == \t******               [ 0.250000 ]     --- [  0.00000 rad ]\n",
      "∣3❭:\t 0.500000 +  0.000000 i\t == \t******               [ 0.250000 ]     --- [  0.00000 rad ]\n",
      "The actual state:\n",
      "# wave function for qubits with ids (least to most significant): 0;1\n",
      "∣0❭:\t 0.500000 +  0.000000 i\t == \t******               [ 0.250000 ]     --- [  0.00000 rad ]\n",
      "∣1❭:\t 0.500000 +  0.000000 i\t == \t******               [ 0.250000 ]     --- [  0.00000 rad ]\n",
      "∣2❭:\t 0.500000 +  0.000000 i\t == \t******               [ 0.250000 ]     --- [  0.00000 rad ]\n",
      "∣3❭:\t 0.500000 +  0.000000 i\t == \t******               [ 0.250000 ]     --- [  0.00000 rad ]\n",
      "Test case passed\n"
     ]
    },
    {
     "data": {
      "application/json": "\"Success!\"",
      "text/plain": [
       "Success!"
      ]
     },
     "execution_count": 6,
     "metadata": {},
     "output_type": "execute_result"
    }
   ],
   "source": [
    "%kata T04_AllBasisVectors_TwoQubits_Test\n",
    "\n",
    "operation AllBasisVectors_TwoQubits (qs : Qubit[]) : Unit {\n",
    "    H(qs[0]);\n",
    "    H(qs[1]);\n",
    "}"
   ]
  },
  {
   "cell_type": "markdown",
   "metadata": {},
   "source": [
    "*Can't come up with a solution? See the explained solution in the [Superposition Workbook](./Workbook_Superposition.ipynb#superposition-of-all-basis-vectors-on-two-qubits).*"
   ]
  },
  {
   "cell_type": "markdown",
   "metadata": {},
   "source": [
    "### <a name=\"superposition-of-basis-vectors-with-phases\"></a>Task 5. Superposition of basis vectors with phases.\n",
    "\n",
    "**Input:** Two qubits in the $|00\\rangle$ state (stored in an array of length 2).\n",
    "\n",
    "**Goal:** Change the state of the qubits to $\\frac{1}{2} \\big(|00\\rangle + i|01\\rangle - |10\\rangle - i|11\\rangle\\big)$.\n",
    "\n",
    "<br/>\n",
    "<details>\n",
    "  <summary><b>Need a hint? Click here</b></summary>\n",
    "  Is this state separable?\n",
    "</details>"
   ]
  },
  {
   "cell_type": "code",
   "execution_count": 7,
   "metadata": {},
   "outputs": [
    {
     "name": "stdout",
     "output_type": "stream",
     "text": [
      "The desired state:\n",
      "# wave function for qubits with ids (least to most significant): 0;1\n",
      "∣0❭:\t 0.500000 +  0.000000 i\t == \t******               [ 0.250000 ]     --- [  0.00000 rad ]\n",
      "∣1❭:\t-0.500000 +  0.000000 i\t == \t******               [ 0.250000 ] ---     [  3.14159 rad ]\n",
      "∣2❭:\t 0.000000 +  0.500000 i\t == \t******               [ 0.250000 ]    ↑    [  1.57080 rad ]\n",
      "∣3❭:\t 0.000000 + -0.500000 i\t == \t******               [ 0.250000 ]    ↓    [ -1.57080 rad ]\n",
      "The actual state:\n",
      "# wave function for qubits with ids (least to most significant): 0;1\n",
      "∣0❭:\t 0.000000 +  0.500000 i\t == \t******               [ 0.250000 ]    ↑    [  1.57080 rad ]\n",
      "∣1❭:\t 0.000000 + -0.500000 i\t == \t******               [ 0.250000 ]    ↓    [ -1.57080 rad ]\n",
      "∣2❭:\t-0.500000 +  0.000000 i\t == \t******               [ 0.250000 ] ---     [  3.14159 rad ]\n",
      "∣3❭:\t 0.500000 +  0.000000 i\t == \t******               [ 0.250000 ]     --- [  0.00000 rad ]\n",
      "Test case passed\n"
     ]
    },
    {
     "data": {
      "application/json": "\"Success!\"",
      "text/plain": [
       "Success!"
      ]
     },
     "execution_count": 7,
     "metadata": {},
     "output_type": "execute_result"
    }
   ],
   "source": [
    "%kata T05_AllBasisVectorsWithPhases_TwoQubits_Test\n",
    "\n",
    "operation AllBasisVectorsWithPhases_TwoQubits (qs : Qubit[]) : Unit {\n",
    "    H(qs[0]);\n",
    "    H(qs[1]);\n",
    "    Z(qs[0]);\n",
    "    S(qs[1]);\n",
    "}"
   ]
  },
  {
   "cell_type": "markdown",
   "metadata": {},
   "source": [
    "*Can't come up with a solution? See the explained solution in the [Superposition Workbook](./Workbook_Superposition.ipynb#superposition-of-basis-vectors-with-phases).*"
   ]
  },
  {
   "cell_type": "markdown",
   "metadata": {},
   "source": [
    "### <a name=\"bell-state\"></a>Task 6. Bell state $|\\Phi^{+}\\rangle$.\n",
    "\n",
    "**Input:** Two qubits in the $|00\\rangle$ state (stored in an array of length 2).\n",
    "\n",
    "**Goal:**  Change the state of the qubits to $|\\Phi^{+}\\rangle = \\frac{1}{\\sqrt{2}} \\big (|00\\rangle + |11\\rangle\\big)$.\n",
    "\n",
    "> You can find detailed coverage of Bell states and their creation [in this blog post](https://blogs.msdn.microsoft.com/uk_faculty_connection/2018/02/06/a-beginners-guide-to-quantum-computing-and-q/)."
   ]
  },
  {
   "cell_type": "code",
   "execution_count": 8,
   "metadata": {},
   "outputs": [
    {
     "name": "stdout",
     "output_type": "stream",
     "text": [
      "The desired state:\n",
      "# wave function for qubits with ids (least to most significant): 0;1\n",
      "∣0❭:\t 0.707107 +  0.000000 i\t == \t***********          [ 0.500000 ]     --- [  0.00000 rad ]\n",
      "∣1❭:\t 0.000000 +  0.000000 i\t == \t                     [ 0.000000 ]                   \n",
      "∣2❭:\t 0.000000 +  0.000000 i\t == \t                     [ 0.000000 ]                   \n",
      "∣3❭:\t 0.707107 +  0.000000 i\t == \t***********          [ 0.500000 ]     --- [  0.00000 rad ]\n",
      "The actual state:\n",
      "# wave function for qubits with ids (least to most significant): 0;1\n",
      "∣0❭:\t 0.707107 +  0.000000 i\t == \t***********          [ 0.500000 ]     --- [  0.00000 rad ]\n",
      "∣1❭:\t 0.000000 +  0.000000 i\t == \t                     [ 0.000000 ]                   \n",
      "∣2❭:\t 0.000000 +  0.000000 i\t == \t                     [ 0.000000 ]                   \n",
      "∣3❭:\t 0.707107 +  0.000000 i\t == \t***********          [ 0.500000 ]     --- [  0.00000 rad ]\n",
      "Test case passed\n"
     ]
    },
    {
     "data": {
      "application/json": "\"Success!\"",
      "text/plain": [
       "Success!"
      ]
     },
     "execution_count": 8,
     "metadata": {},
     "output_type": "execute_result"
    }
   ],
   "source": [
    "%kata T06_BellState_Test\n",
    "\n",
    "operation BellState (qs : Qubit[]) : Unit {\n",
    "    H(qs[0]);\n",
    "    CNOT(qs[0], qs[1]);\n",
    "}"
   ]
  },
  {
   "cell_type": "markdown",
   "metadata": {},
   "source": [
    "*Can't come up with a solution? See the explained solution in the [Superposition Workbook](./Workbook_Superposition.ipynb#bell-state).*"
   ]
  },
  {
   "cell_type": "markdown",
   "metadata": {},
   "source": [
    "### <a name=\"all-bell-states\"></a> Task 7. All Bell states.\n",
    "\n",
    "**Inputs:** \n",
    "\n",
    "1. Two qubits in the $|00\\rangle$ state (stored in an array of length 2).\n",
    "2. An integer index.\n",
    "\n",
    "**Goal:**  Change the state of the qubits to one of the Bell states, based on the value of index:\n",
    "\n",
    "<table>\n",
    "  <col width=\"50\"/>\n",
    "  <col width=\"200\"/>\n",
    "  <tr>\n",
    "    <th style=\"text-align:center\">Index</th>\n",
    "    <th style=\"text-align:center\">State</th>\n",
    "  </tr>\n",
    "  <tr>\n",
    "    <td style=\"text-align:center\">0</td>\n",
    "    <td style=\"text-align:center\">$|\\Phi^{+}\\rangle = \\frac{1}{\\sqrt{2}} \\big (|00\\rangle + |11\\rangle\\big)$</td>\n",
    "  </tr>\n",
    "  <tr>\n",
    "    <td style=\"text-align:center\">1</td>\n",
    "    <td style=\"text-align:center\">$|\\Phi^{-}\\rangle = \\frac{1}{\\sqrt{2}} \\big (|00\\rangle - |11\\rangle\\big)$</td>\n",
    "  </tr>\n",
    "  <tr>\n",
    "    <td style=\"text-align:center\">2</td>\n",
    "    <td style=\"text-align:center\">$|\\Psi^{+}\\rangle = \\frac{1}{\\sqrt{2}} \\big (|01\\rangle + |10\\rangle\\big)$</td>\n",
    "  </tr>\n",
    "  <tr>\n",
    "    <td style=\"text-align:center\">3</td>\n",
    "    <td style=\"text-align:center\">$|\\Psi^{-}\\rangle = \\frac{1}{\\sqrt{2}} \\big (|01\\rangle - |10\\rangle\\big)$</td>\n",
    "  </tr>\n",
    "</table>"
   ]
  },
  {
   "cell_type": "code",
   "execution_count": 9,
   "metadata": {},
   "outputs": [
    {
     "name": "stdout",
     "output_type": "stream",
     "text": [
      "The desired state for index = 0\n",
      "# wave function for qubits with ids (least to most significant): 0;1\n",
      "∣0❭:\t 0.707107 +  0.000000 i\t == \t***********          [ 0.500000 ]     --- [  0.00000 rad ]\n",
      "∣1❭:\t 0.000000 +  0.000000 i\t == \t                     [ 0.000000 ]                   \n",
      "∣2❭:\t 0.000000 +  0.000000 i\t == \t                     [ 0.000000 ]                   \n",
      "∣3❭:\t 0.707107 +  0.000000 i\t == \t***********          [ 0.500000 ]     --- [  0.00000 rad ]\n",
      "The actual state:\n",
      "# wave function for qubits with ids (least to most significant): 0;1\n",
      "∣0❭:\t 0.707107 +  0.000000 i\t == \t***********          [ 0.500000 ]     --- [  0.00000 rad ]\n",
      "∣1❭:\t 0.000000 +  0.000000 i\t == \t                     [ 0.000000 ]                   \n",
      "∣2❭:\t 0.000000 +  0.000000 i\t == \t                     [ 0.000000 ]                   \n",
      "∣3❭:\t 0.707107 +  0.000000 i\t == \t***********          [ 0.500000 ]     --- [  0.00000 rad ]\n",
      "Test case passed\n",
      "The desired state for index = 1\n",
      "# wave function for qubits with ids (least to most significant): 0;1\n",
      "∣0❭:\t 0.707107 +  0.000000 i\t == \t***********          [ 0.500000 ]     --- [  0.00000 rad ]\n",
      "∣1❭:\t 0.000000 +  0.000000 i\t == \t                     [ 0.000000 ]                   \n",
      "∣2❭:\t 0.000000 +  0.000000 i\t == \t                     [ 0.000000 ]                   \n",
      "∣3❭:\t-0.707107 +  0.000000 i\t == \t***********          [ 0.500000 ] ---     [  3.14159 rad ]\n",
      "The actual state:\n",
      "# wave function for qubits with ids (least to most significant): 0;1\n",
      "∣0❭:\t-0.707107 +  0.000000 i\t == \t***********          [ 0.500000 ] ---     [  3.14159 rad ]\n",
      "∣1❭:\t 0.000000 +  0.000000 i\t == \t                     [ 0.000000 ]                   \n",
      "∣2❭:\t 0.000000 +  0.000000 i\t == \t                     [ 0.000000 ]                   \n",
      "∣3❭:\t 0.707107 +  0.000000 i\t == \t***********          [ 0.500000 ]     --- [  0.00000 rad ]\n",
      "Test case passed\n",
      "The desired state for index = 2\n",
      "# wave function for qubits with ids (least to most significant): 0;1\n",
      "∣0❭:\t 0.000000 +  0.000000 i\t == \t                     [ 0.000000 ]                   \n",
      "∣1❭:\t-0.707107 +  0.000000 i\t == \t***********          [ 0.500000 ] ---     [  3.14159 rad ]\n",
      "∣2❭:\t-0.707107 +  0.000000 i\t == \t***********          [ 0.500000 ] ---     [  3.14159 rad ]\n",
      "∣3❭:\t 0.000000 +  0.000000 i\t == \t                     [ 0.000000 ]                   \n",
      "The actual state:\n",
      "# wave function for qubits with ids (least to most significant): 0;1\n",
      "∣0❭:\t 0.000000 +  0.000000 i\t == \t                     [ 0.000000 ]                   \n",
      "∣1❭:\t-0.707107 +  0.000000 i\t == \t***********          [ 0.500000 ] ---     [  3.14159 rad ]\n",
      "∣2❭:\t-0.707107 +  0.000000 i\t == \t***********          [ 0.500000 ] ---     [  3.14159 rad ]\n",
      "∣3❭:\t 0.000000 +  0.000000 i\t == \t                     [ 0.000000 ]                   \n",
      "Test case passed\n",
      "The desired state for index = 3\n",
      "# wave function for qubits with ids (least to most significant): 0;1\n",
      "∣0❭:\t 0.000000 +  0.000000 i\t == \t                     [ 0.000000 ]                   \n",
      "∣1❭:\t 0.707107 +  0.000000 i\t == \t***********          [ 0.500000 ]     --- [  0.00000 rad ]\n",
      "∣2❭:\t-0.707107 +  0.000000 i\t == \t***********          [ 0.500000 ] ---     [  3.14159 rad ]\n",
      "∣3❭:\t 0.000000 +  0.000000 i\t == \t                     [ 0.000000 ]                   \n",
      "The actual state:\n",
      "# wave function for qubits with ids (least to most significant): 0;1\n",
      "∣0❭:\t 0.000000 +  0.000000 i\t == \t                     [ 0.000000 ]                   \n",
      "∣1❭:\t-0.707107 +  0.000000 i\t == \t***********          [ 0.500000 ] ---     [  3.14159 rad ]\n",
      "∣2❭:\t 0.707107 +  0.000000 i\t == \t***********          [ 0.500000 ]     --- [  0.00000 rad ]\n",
      "∣3❭:\t 0.000000 +  0.000000 i\t == \t                     [ 0.000000 ]                   \n",
      "Test case passed\n"
     ]
    },
    {
     "data": {
      "application/json": "\"Success!\"",
      "text/plain": [
       "Success!"
      ]
     },
     "execution_count": 9,
     "metadata": {},
     "output_type": "execute_result"
    }
   ],
   "source": [
    "%kata T07_AllBellStates_Test\n",
    "\n",
    "operation AllBellStates (qs : Qubit[], index : Int) : Unit {\n",
    "    if(index % 2 == 1){\n",
    "        X(qs[0]);\n",
    "    }\n",
    "    H(qs[0]);\n",
    "    CNOT(qs[0], qs[1]);\n",
    "    if(index > 1){\n",
    "        X(qs[1]);\n",
    "    }\n",
    "}"
   ]
  },
  {
   "cell_type": "markdown",
   "metadata": {},
   "source": [
    "*Can't come up with a solution? See the explained solution in the [Superposition Workbook](./Workbook_Superposition.ipynb#all-bell-states).*"
   ]
  },
  {
   "cell_type": "markdown",
   "metadata": {},
   "source": [
    "### <a name=\"greenberger-horne-zeilinger\"></a> Task 8. Greenberger–Horne–Zeilinger state.\n",
    "\n",
    "**Input:** $N$ ($N \\ge 1$) qubits in the $|0 \\dots 0\\rangle$ state (stored in an array of length $N$).\n",
    "\n",
    "**Goal:**  Change the state of the qubits to the GHZ state $\\frac{1}{\\sqrt{2}} \\big (|0\\dots0\\rangle + |1\\dots1\\rangle\\big)$.\n",
    "\n",
    "> For the syntax of flow control statements in Q#, see [the Q# documentation](https://docs.microsoft.com/quantum/language/statements#control-flow)."
   ]
  },
  {
   "cell_type": "code",
   "execution_count": 10,
   "metadata": {},
   "outputs": [
    {
     "name": "stdout",
     "output_type": "stream",
     "text": [
      "The desired state for N = 1\n",
      "# wave function for qubits with ids (least to most significant): 0\n",
      "∣0❭:\t 0.707107 +  0.000000 i\t == \t***********          [ 0.500000 ]     --- [  0.00000 rad ]\n",
      "∣1❭:\t 0.707107 +  0.000000 i\t == \t***********          [ 0.500000 ]     --- [  0.00000 rad ]\n",
      "The actual state:\n",
      "# wave function for qubits with ids (least to most significant): 0\n",
      "∣0❭:\t 0.707107 +  0.000000 i\t == \t***********          [ 0.500000 ]     --- [  0.00000 rad ]\n",
      "∣1❭:\t 0.707107 +  0.000000 i\t == \t***********          [ 0.500000 ]     --- [  0.00000 rad ]\n",
      "Test case passed\n",
      "The desired state for N = 2\n",
      "# wave function for qubits with ids (least to most significant): 0;1\n",
      "∣0❭:\t 0.707107 +  0.000000 i\t == \t***********          [ 0.500000 ]     --- [  0.00000 rad ]\n",
      "∣1❭:\t 0.000000 +  0.000000 i\t == \t                     [ 0.000000 ]                   \n",
      "∣2❭:\t 0.000000 +  0.000000 i\t == \t                     [ 0.000000 ]                   \n",
      "∣3❭:\t 0.707107 +  0.000000 i\t == \t***********          [ 0.500000 ]     --- [  0.00000 rad ]\n",
      "The actual state:\n",
      "# wave function for qubits with ids (least to most significant): 0;1\n",
      "∣0❭:\t 0.707107 +  0.000000 i\t == \t***********          [ 0.500000 ]     --- [  0.00000 rad ]\n",
      "∣1❭:\t 0.000000 +  0.000000 i\t == \t                     [ 0.000000 ]                   \n",
      "∣2❭:\t 0.000000 +  0.000000 i\t == \t                     [ 0.000000 ]                   \n",
      "∣3❭:\t 0.707107 +  0.000000 i\t == \t***********          [ 0.500000 ]     --- [  0.00000 rad ]\n",
      "Test case passed\n",
      "Testing on hidden test cases...\n"
     ]
    },
    {
     "data": {
      "application/json": "\"Success!\"",
      "text/plain": [
       "Success!"
      ]
     },
     "execution_count": 10,
     "metadata": {},
     "output_type": "execute_result"
    }
   ],
   "source": [
    "%kata T08_GHZ_State_Test\n",
    "\n",
    "operation GHZ_State (qs : Qubit[]) : Unit {\n",
    "    H(qs[0]);\n",
    "    for (i in 1..Length(qs)-1){\n",
    "        CNOT(qs[0], qs[i]);\n",
    "    }\n",
    "}"
   ]
  },
  {
   "cell_type": "markdown",
   "metadata": {},
   "source": [
    "*Can't come up with a solution? See the explained solution in the [Superposition Workbook](./Workbook_Superposition_Part2.ipynb#greenberger-horne-zeilinger).*"
   ]
  },
  {
   "cell_type": "markdown",
   "metadata": {},
   "source": [
    "### <a name=\"superposition-of-all-basis-vectors\"></a> Task 9. Superposition of all basis vectors.\n",
    "\n",
    "**Input:** $N$ ($N \\ge 1$) qubits in the $|0 \\dots 0\\rangle$ state.\n",
    "\n",
    "**Goal:**  Change the state of the qubits to an equal superposition of all basis vectors $\\frac{1}{\\sqrt{2^N}} \\big (|0 \\dots 0\\rangle + \\dots + |1 \\dots 1\\rangle\\big)$.\n",
    "\n",
    "> For example, for $N = 2$ the final state should be  $\\frac{1}{\\sqrt{2}} \\big (|00\\rangle + |01\\rangle + |10\\rangle + |11\\rangle\\big)$.\n",
    "\n",
    "<br/>\n",
    "<details>\n",
    "  <summary><b>Need a hint? Click here</b></summary>\n",
    "  Is this state separable?\n",
    "</details>"
   ]
  },
  {
   "cell_type": "code",
   "execution_count": 11,
   "metadata": {},
   "outputs": [
    {
     "name": "stdout",
     "output_type": "stream",
     "text": [
      "The desired state for N = 1\n",
      "# wave function for qubits with ids (least to most significant): 0\n",
      "∣0❭:\t 0.707107 +  0.000000 i\t == \t***********          [ 0.500000 ]     --- [  0.00000 rad ]\n",
      "∣1❭:\t 0.707107 +  0.000000 i\t == \t***********          [ 0.500000 ]     --- [  0.00000 rad ]\n",
      "The actual state:\n",
      "# wave function for qubits with ids (least to most significant): 0\n",
      "∣0❭:\t 0.707107 +  0.000000 i\t == \t***********          [ 0.500000 ]     --- [  0.00000 rad ]\n",
      "∣1❭:\t 0.707107 +  0.000000 i\t == \t***********          [ 0.500000 ]     --- [  0.00000 rad ]\n",
      "Test case passed\n",
      "The desired state for N = 2\n",
      "# wave function for qubits with ids (least to most significant): 0;1\n",
      "∣0❭:\t 0.500000 +  0.000000 i\t == \t******               [ 0.250000 ]     --- [  0.00000 rad ]\n",
      "∣1❭:\t 0.500000 +  0.000000 i\t == \t******               [ 0.250000 ]     --- [  0.00000 rad ]\n",
      "∣2❭:\t 0.500000 +  0.000000 i\t == \t******               [ 0.250000 ]     --- [  0.00000 rad ]\n",
      "∣3❭:\t 0.500000 +  0.000000 i\t == \t******               [ 0.250000 ]     --- [  0.00000 rad ]\n",
      "The actual state:\n",
      "# wave function for qubits with ids (least to most significant): 0;1\n",
      "∣0❭:\t 0.500000 +  0.000000 i\t == \t******               [ 0.250000 ]     --- [  0.00000 rad ]\n",
      "∣1❭:\t 0.500000 +  0.000000 i\t == \t******               [ 0.250000 ]     --- [  0.00000 rad ]\n",
      "∣2❭:\t 0.500000 +  0.000000 i\t == \t******               [ 0.250000 ]     --- [  0.00000 rad ]\n",
      "∣3❭:\t 0.500000 +  0.000000 i\t == \t******               [ 0.250000 ]     --- [  0.00000 rad ]\n",
      "Test case passed\n",
      "Testing on hidden test cases...\n"
     ]
    },
    {
     "data": {
      "application/json": "\"Success!\"",
      "text/plain": [
       "Success!"
      ]
     },
     "execution_count": 11,
     "metadata": {},
     "output_type": "execute_result"
    }
   ],
   "source": [
    "%kata T09_AllBasisVectorsSuperposition_Test\n",
    "\n",
    "operation AllBasisVectorsSuperposition (qs : Qubit[]) : Unit {\n",
    "    for(i in 0..Length(qs) - 1){\n",
    "        H(qs[i]);\n",
    "    }\n",
    "}"
   ]
  },
  {
   "cell_type": "markdown",
   "metadata": {},
   "source": [
    "*Can't come up with a solution? See the explained solution in the [Superposition Workbook](./Workbook_Superposition_Part2.ipynb#superposition-of-all-basis-vectors).*"
   ]
  },
  {
   "cell_type": "markdown",
   "metadata": {},
   "source": [
    "### <a name=\"superposition-of-all-even-or-all-odd-numbers\"></a> Task 10. Superposition of all even or all odd numbers.\n",
    "\n",
    "**Inputs:** \n",
    "\n",
    "1. $N$ ($N \\ge 1$) qubits in the $|0 \\dots 0\\rangle$ state (stored in an array of length $N$).\n",
    "2. A boolean `isEven`.\n",
    "\n",
    "**Goal:**  Prepare a superposition of all *even* numbers if `isEven` is `true`, or of all *odd* numbers if `isEven` is `false`.  \n",
    "A basis state encodes an integer number using [big-endian](https://en.wikipedia.org/wiki/Endianness) binary notation: state $|01\\rangle$ corresponds to the integer $1$, and state $|10 \\rangle$ - to the integer $2$.  \n",
    "\n",
    "> For example, for $N = 2$ and `isEven = false` you need to prepare superposition $\\frac{1}{\\sqrt{2}} \\big (|01\\rangle + |11\\rangle\\big )$,  \n",
    "and for $N = 2$ and `isEven = true` - superposition $\\frac{1}{\\sqrt{2}} \\big (|00\\rangle + |10\\rangle\\big )$."
   ]
  },
  {
   "cell_type": "code",
   "execution_count": 16,
   "metadata": {},
   "outputs": [
    {
     "name": "stdout",
     "output_type": "stream",
     "text": [
      "The desired state for N = 1, isEven = False\n",
      "# wave function for qubits with ids (least to most significant): 0\n",
      "∣0❭:\t 0.000000 +  0.000000 i\t == \t                     [ 0.000000 ]                   \n",
      "∣1❭:\t 1.000000 +  0.000000 i\t == \t******************** [ 1.000000 ]     --- [  0.00000 rad ]\n",
      "The actual state:\n",
      "# wave function for qubits with ids (least to most significant): 0\n",
      "∣0❭:\t 0.000000 +  0.000000 i\t == \t                     [ 0.000000 ]                   \n",
      "∣1❭:\t 1.000000 +  0.000000 i\t == \t******************** [ 1.000000 ]     --- [  0.00000 rad ]\n",
      "Test case passed\n",
      "The desired state for N = 1, isEven = True\n",
      "# wave function for qubits with ids (least to most significant): 0\n",
      "∣0❭:\t 1.000000 +  0.000000 i\t == \t******************** [ 1.000000 ]     --- [  0.00000 rad ]\n",
      "∣1❭:\t 0.000000 +  0.000000 i\t == \t                     [ 0.000000 ]                   \n",
      "The actual state:\n",
      "# wave function for qubits with ids (least to most significant): 0\n",
      "∣0❭:\t 1.000000 +  0.000000 i\t == \t******************** [ 1.000000 ]     --- [  0.00000 rad ]\n",
      "∣1❭:\t 0.000000 +  0.000000 i\t == \t                     [ 0.000000 ]                   \n",
      "Test case passed\n",
      "The desired state for N = 2, isEven = False\n",
      "# wave function for qubits with ids (least to most significant): 0;1\n",
      "∣0❭:\t 0.000000 +  0.000000 i\t == \t                     [ 0.000000 ]                   \n",
      "∣1❭:\t 0.000000 +  0.000000 i\t == \t                     [ 0.000000 ]                   \n",
      "∣2❭:\t 0.707107 +  0.000000 i\t == \t***********          [ 0.500000 ]     --- [  0.00000 rad ]\n",
      "∣3❭:\t 0.707107 +  0.000000 i\t == \t***********          [ 0.500000 ]     --- [  0.00000 rad ]\n",
      "The actual state:\n",
      "# wave function for qubits with ids (least to most significant): 0;1\n",
      "∣0❭:\t 0.000000 +  0.000000 i\t == \t                     [ 0.000000 ]                   \n",
      "∣1❭:\t 0.000000 +  0.000000 i\t == \t                     [ 0.000000 ]                   \n",
      "∣2❭:\t 0.707107 +  0.000000 i\t == \t***********          [ 0.500000 ]     --- [  0.00000 rad ]\n",
      "∣3❭:\t 0.707107 +  0.000000 i\t == \t***********          [ 0.500000 ]     --- [  0.00000 rad ]\n",
      "Test case passed\n",
      "The desired state for N = 2, isEven = True\n",
      "# wave function for qubits with ids (least to most significant): 0;1\n",
      "∣0❭:\t 0.707107 +  0.000000 i\t == \t***********          [ 0.500000 ]     --- [  0.00000 rad ]\n",
      "∣1❭:\t 0.707107 +  0.000000 i\t == \t***********          [ 0.500000 ]     --- [  0.00000 rad ]\n",
      "∣2❭:\t 0.000000 +  0.000000 i\t == \t                     [ 0.000000 ]                   \n",
      "∣3❭:\t 0.000000 +  0.000000 i\t == \t                     [ 0.000000 ]                   \n",
      "The actual state:\n",
      "# wave function for qubits with ids (least to most significant): 0;1\n",
      "∣0❭:\t 0.707107 +  0.000000 i\t == \t***********          [ 0.500000 ]     --- [  0.00000 rad ]\n",
      "∣1❭:\t 0.707107 +  0.000000 i\t == \t***********          [ 0.500000 ]     --- [  0.00000 rad ]\n",
      "∣2❭:\t 0.000000 +  0.000000 i\t == \t                     [ 0.000000 ]                   \n",
      "∣3❭:\t 0.000000 +  0.000000 i\t == \t                     [ 0.000000 ]                   \n",
      "Test case passed\n",
      "Testing on hidden test cases...\n"
     ]
    },
    {
     "data": {
      "application/json": "\"Success!\"",
      "text/plain": [
       "Success!"
      ]
     },
     "execution_count": 16,
     "metadata": {},
     "output_type": "execute_result"
    }
   ],
   "source": [
    "%kata T10_EvenOddNumbersSuperposition_Test\n",
    "\n",
    "operation EvenOddNumbersSuperposition (qs : Qubit[], isEven : Bool) : Unit {\n",
    "    for(i in 0..Length(qs)-2){\n",
    "        H(qs[i]);\n",
    "    }\n",
    "    if(not isEven){\n",
    "        X(qs[Length(qs)-1]);\n",
    "    }\n",
    "}"
   ]
  },
  {
   "cell_type": "markdown",
   "metadata": {},
   "source": [
    "*Can't come up with a solution? See the explained solution in the [Superposition Workbook](./Workbook_Superposition_Part2.ipynb#superposition-of-all-even-or-all-odd-numbers).*"
   ]
  },
  {
   "cell_type": "markdown",
   "metadata": {},
   "source": [
    "### <a name=\"threestates-twoqubits\"></a>Task 11*. $\\frac{1}{\\sqrt{3}} \\big(|00\\rangle + |01\\rangle + |10\\rangle\\big)$ state.\n",
    "\n",
    "**Input:** Two qubits in the $|00\\rangle$ state.\n",
    "\n",
    "**Goal:**  Change the state of the qubits to $\\frac{1}{\\sqrt{3}} \\big(|00\\rangle + |01\\rangle + |10\\rangle\\big)$.\n",
    "\n",
    "<br/>\n",
    "<details>\n",
    "  <summary><b>Need a hint? Click here</b></summary>\n",
    "  If you need trigonometric functions, you can find them in Microsoft.Quantum.Math namespace; you'll need to add <pre>open Microsoft.Quantum.Math;</pre> to the code before the operation definition.\n",
    "</details>"
   ]
  },
  {
   "cell_type": "code",
   "execution_count": null,
   "metadata": {},
   "outputs": [],
   "source": [
    "%kata T11_ThreeStates_TwoQubits_Test\n",
    "\n",
    "operation ThreeStates_TwoQubits (qs : Qubit[]) : Unit {\n",
    "    // ...\n",
    "}"
   ]
  },
  {
   "cell_type": "markdown",
   "metadata": {},
   "source": [
    "*Can't come up with a solution? See the explained solution in the [Superposition Workbook](./Workbook_Superposition_Part2.ipynb#threestates-twoqubits).*"
   ]
  },
  {
   "cell_type": "markdown",
   "metadata": {},
   "source": [
    "### <a name=\"hardy-state\"></a>Task 12*. Hardy state.\n",
    "\n",
    "**Input:** Two qubits in the $|00\\rangle$ state.\n",
    "\n",
    "**Goal:**  Change the state of the qubits to $\\frac{1}{\\sqrt{12}} \\big(3|00\\rangle + |01\\rangle + |10\\rangle + |11\\rangle\\big)$.\n",
    "\n",
    "<br/>\n",
    "<details>\n",
    "  <summary><b>Need a hint? Click here</b></summary>\n",
    "  If you need trigonometric functions, you can find them in Microsoft.Quantum.Math namespace; you'll need to add <pre>open Microsoft.Quantum.Math;</pre> to the code before the operation definition.\n",
    "</details>"
   ]
  },
  {
   "cell_type": "code",
   "execution_count": null,
   "metadata": {},
   "outputs": [],
   "source": [
    "%kata T12_Hardy_State_Test\n",
    "\n",
    "operation Hardy_State (qs : Qubit[]) : Unit {\n",
    "    // ...\n",
    "}"
   ]
  },
  {
   "cell_type": "markdown",
   "metadata": {},
   "source": [
    "*Can't come up with a solution? See the explained solution in the [Superposition Workbook](./Workbook_Superposition_Part2.ipynb#hardy-state).*"
   ]
  },
  {
   "cell_type": "markdown",
   "metadata": {},
   "source": [
    "### <a name=\"superposition-of-zero-and-given-bit-string\"></a>Task 13. Superposition of $|0 \\dots 0\\rangle$ and the given bit string.\n",
    "\n",
    "**Inputs:** \n",
    "\n",
    "1. $N$ ($N \\ge 1$) qubits in the $|0 \\dots 0\\rangle$ state.\n",
    "2. A bit string of length $N$ represented as `Bool[]`. Bit values `false` and `true` correspond to $|0\\rangle$ and $|1\\rangle$ states. You are guaranteed that the first bit of the bit string is `true`.\n",
    "\n",
    "**Goal:**  Change the state of the qubits to an equal superposition of $|0 \\dots 0\\rangle$ and the basis state given by the bit string.\n",
    "\n",
    "> For example, for the bit string `[true, false]` the state required is $\\frac{1}{\\sqrt{2}}\\big(|00\\rangle + |10\\rangle\\big)$."
   ]
  },
  {
   "cell_type": "code",
   "execution_count": 17,
   "metadata": {},
   "outputs": [
    {
     "name": "stdout",
     "output_type": "stream",
     "text": [
      "The desired state for bits = [True]\n",
      "# wave function for qubits with ids (least to most significant): 0\n",
      "∣0❭:\t 0.707107 +  0.000000 i\t == \t***********          [ 0.500000 ]     --- [  0.00000 rad ]\n",
      "∣1❭:\t 0.707107 +  0.000000 i\t == \t***********          [ 0.500000 ]     --- [  0.00000 rad ]\n",
      "The actual state:\n",
      "# wave function for qubits with ids (least to most significant): 0\n",
      "∣0❭:\t 0.707107 +  0.000000 i\t == \t***********          [ 0.500000 ]     --- [  0.00000 rad ]\n",
      "∣1❭:\t 0.707107 +  0.000000 i\t == \t***********          [ 0.500000 ]     --- [  0.00000 rad ]\n",
      "Test case passed\n",
      "The desired state for bits = [True,True]\n",
      "# wave function for qubits with ids (least to most significant): 0;1\n",
      "∣0❭:\t 0.707107 +  0.000000 i\t == \t***********          [ 0.500000 ]     --- [  0.00000 rad ]\n",
      "∣1❭:\t 0.000000 +  0.000000 i\t == \t                     [ 0.000000 ]                   \n",
      "∣2❭:\t 0.000000 +  0.000000 i\t == \t                     [ 0.000000 ]                   \n",
      "∣3❭:\t 0.707107 +  0.000000 i\t == \t***********          [ 0.500000 ]     --- [  0.00000 rad ]\n",
      "The actual state:\n",
      "# wave function for qubits with ids (least to most significant): 0;1\n",
      "∣0❭:\t 0.707107 +  0.000000 i\t == \t***********          [ 0.500000 ]     --- [  0.00000 rad ]\n",
      "∣1❭:\t 0.000000 +  0.000000 i\t == \t                     [ 0.000000 ]                   \n",
      "∣2❭:\t 0.000000 +  0.000000 i\t == \t                     [ 0.000000 ]                   \n",
      "∣3❭:\t 0.707107 +  0.000000 i\t == \t***********          [ 0.500000 ]     --- [  0.00000 rad ]\n",
      "Test case passed\n",
      "The desired state for bits = [True,False]\n",
      "# wave function for qubits with ids (least to most significant): 0;1\n",
      "∣0❭:\t 0.707107 +  0.000000 i\t == \t***********          [ 0.500000 ]     --- [  0.00000 rad ]\n",
      "∣1❭:\t 0.707107 +  0.000000 i\t == \t***********          [ 0.500000 ]     --- [  0.00000 rad ]\n",
      "∣2❭:\t 0.000000 +  0.000000 i\t == \t                     [ 0.000000 ]                   \n",
      "∣3❭:\t 0.000000 +  0.000000 i\t == \t                     [ 0.000000 ]                   \n",
      "The actual state:\n",
      "# wave function for qubits with ids (least to most significant): 0;1\n",
      "∣0❭:\t 0.707107 +  0.000000 i\t == \t***********          [ 0.500000 ]     --- [  0.00000 rad ]\n",
      "∣1❭:\t 0.707107 +  0.000000 i\t == \t***********          [ 0.500000 ]     --- [  0.00000 rad ]\n",
      "∣2❭:\t 0.000000 +  0.000000 i\t == \t                     [ 0.000000 ]                   \n",
      "∣3❭:\t 0.000000 +  0.000000 i\t == \t                     [ 0.000000 ]                   \n",
      "Test case passed\n",
      "Testing on hidden test cases...\n"
     ]
    },
    {
     "data": {
      "application/json": "\"Success!\"",
      "text/plain": [
       "Success!"
      ]
     },
     "execution_count": 17,
     "metadata": {},
     "output_type": "execute_result"
    }
   ],
   "source": [
    "%kata T13_ZeroAndBitstringSuperposition_Test\n",
    "\n",
    "operation ZeroAndBitstringSuperposition (qs : Qubit[], bits : Bool[]) : Unit {\n",
    "    H(qs[0]);\n",
    "    for(i in 1..Length(bits) - 1){\n",
    "        if(bits[i]){\n",
    "            CNOT(qs[0], qs[i]);\n",
    "        }\n",
    "    }\n",
    "}"
   ]
  },
  {
   "cell_type": "markdown",
   "metadata": {},
   "source": [
    "*Can't come up with a solution? See the explained solution in the [Superposition Workbook](./Workbook_Superposition_Part2.ipynb#superposition-of-zero-and-given-bit-string).*"
   ]
  },
  {
   "cell_type": "markdown",
   "metadata": {},
   "source": [
    "### <a name=\"superposition-of-two-bit-strings\"></a>Task 14. Superposition of two bit strings.\n",
    "\n",
    "**Inputs:** \n",
    "\n",
    "1. $N$ ($N \\ge 1$) qubits in the $|0 \\dots 0\\rangle$ state.\n",
    "2. Two bit strings of length $N$ represented as `Bool[]`s. Bit values `false` and `true` correspond to $|0\\rangle$ and $|1\\rangle$ states. You are guaranteed that the two bit strings differ in at least one bit.\n",
    "\n",
    "**Goal:**  Change the state of the qubits to an equal superposition of the basis states given by the bit strings.\n",
    "\n",
    "> For example, for bit strings `[false, true, false]` and `[false, false, true]` the state required is $\\frac{1}{\\sqrt{2}}\\big(|010\\rangle + |001\\rangle\\big)$.\n",
    "\n",
    "> If you need to define any helper functions, you'll need to create an extra code cell for it and execute it before returning to this cell."
   ]
  },
  {
   "cell_type": "code",
   "execution_count": 21,
   "metadata": {},
   "outputs": [
    {
     "name": "stdout",
     "output_type": "stream",
     "text": [
      "The desired state for bits1 = [True], bits2 = [False]\n",
      "# wave function for qubits with ids (least to most significant): 0\n",
      "∣0❭:\t 0.707107 +  0.000000 i\t == \t***********          [ 0.500000 ]     --- [  0.00000 rad ]\n",
      "∣1❭:\t 0.707107 +  0.000000 i\t == \t***********          [ 0.500000 ]     --- [  0.00000 rad ]\n",
      "The actual state:\n",
      "# wave function for qubits with ids (least to most significant): 0\n",
      "∣0❭:\t 0.707107 +  0.000000 i\t == \t***********          [ 0.500000 ]     --- [  0.00000 rad ]\n",
      "∣1❭:\t 0.707107 +  0.000000 i\t == \t***********          [ 0.500000 ]     --- [  0.00000 rad ]\n",
      "Test case passed\n",
      "The desired state for bits1 = [False,True], bits2 = [True,False]\n",
      "# wave function for qubits with ids (least to most significant): 0;1\n",
      "∣0❭:\t 0.000000 +  0.000000 i\t == \t                     [ 0.000000 ]                   \n",
      "∣1❭:\t 0.707107 +  0.000000 i\t == \t***********          [ 0.500000 ]     --- [  0.00000 rad ]\n",
      "∣2❭:\t 0.707107 +  0.000000 i\t == \t***********          [ 0.500000 ]     --- [  0.00000 rad ]\n",
      "∣3❭:\t 0.000000 +  0.000000 i\t == \t                     [ 0.000000 ]                   \n",
      "The actual state:\n",
      "# wave function for qubits with ids (least to most significant): 0;1\n",
      "∣0❭:\t 0.000000 +  0.000000 i\t == \t                     [ 0.000000 ]                   \n",
      "∣1❭:\t 0.707107 +  0.000000 i\t == \t***********          [ 0.500000 ]     --- [  0.00000 rad ]\n",
      "∣2❭:\t 0.707107 +  0.000000 i\t == \t***********          [ 0.500000 ]     --- [  0.00000 rad ]\n",
      "∣3❭:\t 0.000000 +  0.000000 i\t == \t                     [ 0.000000 ]                   \n",
      "Test case passed\n",
      "Testing on hidden test cases...\n"
     ]
    },
    {
     "data": {
      "application/json": "\"Success!\"",
      "text/plain": [
       "Success!"
      ]
     },
     "execution_count": 21,
     "metadata": {},
     "output_type": "execute_result"
    }
   ],
   "source": [
    "%kata T14_TwoBitstringSuperposition_Test\n",
    "\n",
    "operation TwoBitstringSuperposition (qs : Qubit[], bits1 : Bool[], bits2 : Bool[]) : Unit {\n",
    "    mutable i0 = Length(qs);\n",
    "    for (i in 0..Length(qs)-1){\n",
    "        if(bits1[i] == bits2[i]){\n",
    "            if(bits1[i]){\n",
    "                X(qs[i]);\n",
    "            }\n",
    "        }else{\n",
    "            if(i > i0){\n",
    "                if(bits1[i] == bits1[i0]){\n",
    "                    CNOT(qs[i0], qs[i]);\n",
    "                }else{\n",
    "                    X(qs[i0]);\n",
    "                    CNOT(qs[i0], qs[i]);\n",
    "                    X(qs[i0]);\n",
    "                }\n",
    "            }else{\n",
    "                H(qs[i]);\n",
    "                set i0 = i;\n",
    "            }\n",
    "        }\n",
    "    }\n",
    "}"
   ]
  },
  {
   "cell_type": "markdown",
   "metadata": {},
   "source": [
    "*Can't come up with a solution? See the explained solution in the [Superposition Workbook](./Workbook_Superposition_Part2.ipynb#superposition-of-two-bit-strings).*"
   ]
  },
  {
   "cell_type": "markdown",
   "metadata": {},
   "source": [
    "### <a name=\"superposition-of-four-bit-strings\"></a>Task 15*. Superposition of four bit strings.\n",
    "\n",
    "**Inputs:** \n",
    "\n",
    "1. $N$ ($N \\ge 1$) qubits in the $|0 \\dots 0\\rangle$ state.\n",
    "2. Four bit strings of length $N$, represented as `Bool[][]` `bits`. `bits` is an $4 \\times N$ array which describes the bit strings as follows: `bits[i]` describes the `i`-th bit string and has $N$ elements. You are guaranteed that all four bit strings will be distinct.\n",
    "\n",
    "**Goal:**  Change the state of the qubits to an equal superposition of the four basis states given by the bit strings.\n",
    "\n",
    "> For example, for $N = 3$ and `bits = [[false, true, false], [true, false, false], [false, false, true], [true, true, false]]` the state required is $\\frac{1}{2}\\big(|010\\rangle + |100\\rangle + |001\\rangle + |110\\rangle\\big)$.\n",
    "\n",
    "<br/>\n",
    "<details>\n",
    "  <summary><b>Need a hint? Click here</b></summary>\n",
    "  Remember that you can allocate extra qubits. If you do, you'll need to return them to the $|0\\rangle$ state before releasing them.\n",
    "</details>"
   ]
  },
  {
   "cell_type": "code",
   "execution_count": null,
   "metadata": {},
   "outputs": [],
   "source": [
    "%kata T15_FourBitstringSuperposition_Test\n",
    "\n",
    "operation FourBitstringSuperposition (qs : Qubit[], bits : Bool[][]) : Unit {\n",
    "    // ...\n",
    "}"
   ]
  },
  {
   "cell_type": "markdown",
   "metadata": {},
   "source": [
    "*Can't come up with a solution? See the explained solution in the [Superposition Workbook](./Workbook_Superposition_Part2.ipynb#superposition-of-four-bit-strings).*"
   ]
  },
  {
   "cell_type": "markdown",
   "metadata": {},
   "source": [
    "### <a name=\"wstate-on-2k-qubits\"></a>Task 16**. W state on $2^k$ qubits.\n",
    "\n",
    "**Input:** $N = 2^k$ qubits in the $|0 \\dots 0\\rangle$ state.\n",
    "\n",
    "**Goal:**  Change the state of the qubits to the [W state](https://en.wikipedia.org/wiki/W_state) - an equal superposition of $N$ basis states on $N$ qubits which have Hamming weight of 1.\n",
    "\n",
    "> For example, for $N = 4$ the required state is $\\frac{1}{2}\\big(|1000\\rangle + |0100\\rangle + |0010\\rangle + |0001\\rangle\\big)$.\n",
    "\n",
    "<br/>\n",
    "<details>\n",
    "  <summary><b>Need a hint? Click here</b></summary>\n",
    "  You can use Controlled modifier to perform arbitrary controlled gates.\n",
    "</details>"
   ]
  },
  {
   "cell_type": "code",
   "execution_count": null,
   "metadata": {},
   "outputs": [],
   "source": [
    "%kata T16_WState_PowerOfTwo_Test\n",
    "\n",
    "operation WState_PowerOfTwo (qs : Qubit[]) : Unit {\n",
    "    // ...\n",
    "}"
   ]
  },
  {
   "cell_type": "markdown",
   "metadata": {},
   "source": [
    "*Can't come up with a solution? See the explained solution in the [Superposition Workbook](./Workbook_Superposition_Part2.ipynb#wstate-on-2k-qubits).*"
   ]
  },
  {
   "cell_type": "markdown",
   "metadata": {},
   "source": [
    "### <a name=\"wstate-on-arbitray-number-of-qubits\"></a>Task 17**. W state on an arbitrary number of qubits.\n",
    "\n",
    "**Input:** $N$ qubits in the $|0 \\dots 0\\rangle$ state ($N$ is not necessarily a power of 2).\n",
    "\n",
    "**Goal:**  Change the state of the qubits to the [W state](https://en.wikipedia.org/wiki/W_state) - an equal superposition of $N$ basis states on $N$ qubits which have Hamming weight of 1.\n",
    "\n",
    "> For example, for $N = 3$ the required state is $\\frac{1}{\\sqrt{3}}\\big(|100\\rangle + |010\\rangle + |001\\rangle\\big)$.\n",
    "\n",
    "<br/>\n",
    "<details>\n",
    "  <summary><b>Need a hint? Click here</b></summary>\n",
    "  You can modify the signature of the given operation to specify its controlled specialization.\n",
    "</details>"
   ]
  },
  {
   "cell_type": "code",
   "execution_count": null,
   "metadata": {},
   "outputs": [],
   "source": [
    "%kata T17_WState_Arbitrary_Test\n",
    "\n",
    "operation WState_Arbitrary (qs : Qubit[]) : Unit {\n",
    "    // ...\n",
    "}"
   ]
  },
  {
   "cell_type": "markdown",
   "metadata": {},
   "source": [
    "*Can't come up with a solution? See the explained solution in the [Superposition Workbook](./Workbook_Superposition_Part2.ipynb#wstate-on-arbitray-number-of-qubits).*"
   ]
  }
 ],
 "metadata": {
  "kernelspec": {
   "display_name": "Q#",
   "language": "qsharp",
   "name": "iqsharp"
  },
  "language_info": {
   "file_extension": ".qs",
   "mimetype": "text/x-qsharp",
   "name": "qsharp",
   "version": "0.10"
  }
 },
 "nbformat": 4,
 "nbformat_minor": 2
}
